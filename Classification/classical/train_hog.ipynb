{
 "cells": [
  {
   "cell_type": "code",
   "execution_count": 1,
   "metadata": {},
   "outputs": [],
   "source": [
    "import skimage.io as io\n",
    "from sklearn.datasets import fetch_lfw_people\n",
    "import joblib\n",
    "from sklearn.svm import SVC, LinearSVC\n",
    "# import best model for training\n",
    "from sklearn.model_selection import GridSearchCV\n",
    "import cv2 as cv\n",
    "\n",
    "# Show the figures / plots inside the notebook\n",
    "from skimage.color import rgb2gray,rgb2hsv, rgba2rgb\n",
    "import matplotlib.pyplot as plt\n",
    "import numpy as np\n",
    "from skimage.util import random_noise\n",
    "import numpy as np\n",
    "import pandas as pd\n",
    "from skimage.filters import sobel_h, sobel, sobel_v,roberts, gaussian\n",
    "#from skimage.feature import hog\n",
    "from skimage import data, exposure\n",
    "\n",
    "from skimage.exposure import histogram\n",
    "from matplotlib.pyplot import bar\n",
    "import os\n",
    "import nbimporter\n",
    "from hog import *\n",
    "from skimage.transform import resize\n",
    "from sklearn.model_selection import train_test_split\n",
    "import math"
   ]
  },
  {
   "cell_type": "markdown",
   "metadata": {},
   "source": [
    "## Data Reading"
   ]
  },
  {
   "cell_type": "code",
   "execution_count": 2,
   "metadata": {},
   "outputs": [
    {
     "name": "stdout",
     "output_type": "stream",
     "text": [
      "Number of samples: 7843\n",
      "Image dimensions: 32 x 32\n",
      "Number of unique target names: 7843\n"
     ]
    }
   ],
   "source": [
    "# Window size\n",
    "WINDOW_SIZE = 32\n",
    "# Load the LFW dataset\n",
    "lfw_dataset = fetch_lfw_people(min_faces_per_person=2)\n",
    "\n",
    "# Access the data (original images)\n",
    "original_images = lfw_dataset.images\n",
    "\n",
    "# Resize the images to 32x32 pixels\n",
    "resized_face_images = [resize(image, (WINDOW_SIZE, WINDOW_SIZE), mode='reflect') for image in original_images]\n",
    "\n",
    "# Convert the resized images to numpy array\n",
    "resized_face_images = np.array(resized_face_images)\n",
    "\n",
    "# Print the new size of the images\n",
    "n_samples, h, w = resized_face_images.shape\n",
    "# Print some information about the dataset\n",
    "print(\"Number of samples:\", n_samples)\n",
    "print(\"Image dimensions:\", h, \"x\", w)\n",
    "print(\"Number of unique target names:\", len(resized_face_images))\n",
    "# Save the resized images to file\n",
    "np.savez_compressed('Train Images/Head/resized_face_images.npz', resized_face_images)"
   ]
  },
  {
   "cell_type": "code",
   "execution_count": 4,
   "metadata": {},
   "outputs": [
    {
     "name": "stdout",
     "output_type": "stream",
     "text": [
      "Number of samples: 7843\n",
      "Image dimensions: 32 x 32\n",
      "Number of unique target names: 7843\n"
     ]
    }
   ],
   "source": [
    "# Load the resized images from file\n",
    "resized_face_images = np.load('Train Images/Head/resized_face_images.npz')['arr_0']\n",
    "# Print the new size of the images\n",
    "n_samples, h, w = resized_face_images.shape\n",
    "# Print some information about the dataset\n",
    "print(\"Number of samples:\", n_samples)\n",
    "print(\"Image dimensions:\", h, \"x\", w)\n",
    "print(\"Number of unique target names:\", len(resized_face_images))"
   ]
  },
  {
   "cell_type": "code",
   "execution_count": 5,
   "metadata": {},
   "outputs": [],
   "source": [
    "# open folder with images\n",
    "def load_images_from_folder(folder):\n",
    "    images = []\n",
    "    for filename in os.listdir(folder):\n",
    "        img = io.imread(os.path.join(folder,filename))\n",
    "        # check if image is already gray\n",
    "        if len(img.shape) != 2:\n",
    "            img = rgb2gray(img)\n",
    "        # resize image to 32x32\n",
    "        img = resize(img, (WINDOW_SIZE, WINDOW_SIZE), mode='reflect')\n",
    "        if img is not None:\n",
    "            images.append(img)\n",
    "    return images"
   ]
  },
  {
   "cell_type": "code",
   "execution_count": 6,
   "metadata": {},
   "outputs": [
    {
     "name": "stdout",
     "output_type": "stream",
     "text": [
      "Number of negative images: 3030\n"
     ]
    }
   ],
   "source": [
    "# load negative images\n",
    "negative_images = load_images_from_folder(\"Negative Images\")\n",
    "print(\"Number of negative images:\", len(negative_images))\n",
    "# Save the negative images to file\n",
    "np.savez_compressed('Negative.npz', negative_images)"
   ]
  },
  {
   "cell_type": "code",
   "execution_count": 54,
   "metadata": {},
   "outputs": [
    {
     "name": "stdout",
     "output_type": "stream",
     "text": [
      "Number of negative images: 3030\n"
     ]
    }
   ],
   "source": [
    "# Load the negative images from file\n",
    "negative_images = np.load('Negative.npz')['arr_0']\n",
    "print(\"Number of negative images:\", len(negative_images))"
   ]
  },
  {
   "cell_type": "code",
   "execution_count": 47,
   "metadata": {},
   "outputs": [
    {
     "name": "stdout",
     "output_type": "stream",
     "text": [
      "Number of hand images: 11076\n"
     ]
    }
   ],
   "source": [
    "# Load hand images\n",
    "hand_images = load_images_from_folder(\"Train Images/Hand/Hands/Hands\")\n",
    "print(\"Number of hand images:\", len(hand_images))\n",
    "# Save the hand images to file\n",
    "np.savez_compressed('Train Images/Hand/Hands/Hands.npz', hand_images)"
   ]
  },
  {
   "cell_type": "code",
   "execution_count": 52,
   "metadata": {},
   "outputs": [
    {
     "name": "stdout",
     "output_type": "stream",
     "text": [
      "Number of hand images: 11076\n",
      "Image dimensions: (32, 32)\n"
     ]
    },
    {
     "data": {
      "image/png": "[encoded data removed]",
      "text/plain": [
       "<Figure size 640x480 with 1 Axes>"
      ]
     },
     "metadata": {},
     "output_type": "display_data"
    }
   ],
   "source": [
    "# Load the hand images from file\n",
    "hand_images = np.load('Train Images/Hand/Hands/Hands.npz')['arr_0']\n",
    "print(\"Number of hand images:\", len(hand_images))\n",
    "print(\"Image dimensions:\", hand_images[0].shape)\n",
    "plt.imshow(hand_images[9], cmap='gray')\n",
    "plt.show()"
   ]
  },
  {
   "cell_type": "markdown",
   "metadata": {},
   "source": [
    "## Face And Hands Model"
   ]
  },
  {
   "cell_type": "code",
   "execution_count": 55,
   "metadata": {},
   "outputs": [],
   "source": [
    "# Get features from positive images and negative images\n",
    "face_features_array = []\n",
    "hand_features_array = []\n",
    "hand_labels_array = []\n",
    "face_labels_array = []\n",
    "for i in range(0, 5000):\n",
    "    img = resized_face_images[i]\n",
    "    fd = get_features_hog(img, orientations=9, pixels_per_cell=(3, 3), cells_per_block=(2, 2))\n",
    "    face_features_array.append(fd)\n",
    "    face_labels_array.append(1)\n",
    "for i in range(0, 5000):\n",
    "    img = hand_images[i]\n",
    "    fd = get_features_hog(img, orientations=9, pixels_per_cell=(3, 3), cells_per_block=(2, 2))\n",
    "    hand_features_array.append(fd)\n",
    "    hand_labels_array.append(1)\n",
    "for i in range(0, 3030):\n",
    "    img = negative_images[i]\n",
    "    fd = get_features_hog(img, orientations=9, pixels_per_cell=(3, 3), cells_per_block=(2, 2))\n",
    "    face_features_array.append(fd)\n",
    "    face_labels_array.append(0)\n",
    "    hand_features_array.append(fd)\n",
    "    hand_labels_array.append(0)"
   ]
  },
  {
   "cell_type": "code",
   "execution_count": 56,
   "metadata": {},
   "outputs": [
    {
     "name": "stdout",
     "output_type": "stream",
     "text": [
      "Number of features: 2916\n",
      "Number of features: 2916\n"
     ]
    }
   ],
   "source": [
    "print(\"Number of features:\", len(face_features_array[0]))\n",
    "print(\"Number of features:\", len(hand_features_array[1]))"
   ]
  },
  {
   "cell_type": "code",
   "execution_count": 11,
   "metadata": {},
   "outputs": [
    {
     "data": {
      "text/plain": [
       "['face_model.sav']"
      ]
     },
     "execution_count": 11,
     "metadata": {},
     "output_type": "execute_result"
    }
   ],
   "source": [
    "face_recognizer = SVC(C=10000, gamma=0.000001, kernel='rbf', probability=True)\n",
    "# Split the dataset into training and testing set\n",
    "features_train, features_test, labels_train, labels_test = train_test_split(face_features_array, face_labels_array, test_size=0.2, random_state=0)\n",
    "# Train the model\n",
    "face_recognizer.fit(features_train, labels_train)\n",
    "# Save the model to disk\n",
    "joblib.dump(face_recognizer, 'face_model.sav')"
   ]
  },
  {
   "cell_type": "code",
   "execution_count": 12,
   "metadata": {},
   "outputs": [
    {
     "name": "stdout",
     "output_type": "stream",
     "text": [
      "Confidence: [[9.99999498e-01 5.01909137e-07]]\n",
      "Predicted label: [0]\n",
      "Predicted label: 0\n",
      "Accuracy: 0.9806973848069739\n"
     ]
    }
   ],
   "source": [
    "# Load the model from disk\n",
    "face_recognizer = joblib.load('face_model.sav')\n",
    "# get confidence of single image\n",
    "confidence = face_recognizer.predict_proba(features_test[0].reshape(1, -1))\n",
    "print(\"Confidence:\", confidence)\n",
    "print(\"Predicted label:\", confidence.argmax(axis=1))\n",
    "print(\"Predicted label:\", labels_test[0])\n",
    "# Get accuracy\n",
    "accuracy = face_recognizer.score(features_test, labels_test)\n",
    "print(\"Accuracy:\", accuracy)"
   ]
  },
  {
   "cell_type": "code",
   "execution_count": 57,
   "metadata": {},
   "outputs": [
    {
     "data": {
      "text/plain": [
       "['hand_model.sav']"
      ]
     },
     "execution_count": 57,
     "metadata": {},
     "output_type": "execute_result"
    }
   ],
   "source": [
    "hand_recognizer = SVC(C=10000, gamma=0.000001, kernel='rbf', probability=True)\n",
    "# Split the dataset into training and testing set\n",
    "features_train, features_test, labels_train, labels_test = train_test_split(hand_features_array, hand_labels_array, test_size=0.2, random_state=0)\n",
    "# Train the model\n",
    "hand_recognizer.fit(features_train, labels_train)\n",
    "# Save the model to disk\n",
    "joblib.dump(hand_recognizer, 'hand_model.sav')"
   ]
  },
  {
   "cell_type": "code",
   "execution_count": 59,
   "metadata": {},
   "outputs": [
    {
     "name": "stdout",
     "output_type": "stream",
     "text": [
      "Confidence: [[9.99988129e-01 1.18710684e-05]]\n",
      "Predicted label: [0]\n",
      "Predicted label: 0\n",
      "Accuracy: 0.9993773349937733\n"
     ]
    }
   ],
   "source": [
    "# Load the model from disk\n",
    "hand_recognizer = joblib.load('hand_model.sav')\n",
    "# get confidence of single image\n",
    "confidence = hand_recognizer.predict_proba(features_test[0].reshape(1, -1))\n",
    "print(\"Confidence:\", confidence)\n",
    "print(\"Predicted label:\", confidence.argmax(axis=1))\n",
    "print(\"Predicted label:\", labels_test[0])\n",
    "# Get accuracy\n",
    "accuracy = hand_recognizer.score(features_test, labels_test)\n",
    "print(\"Accuracy:\", accuracy)"
   ]
  },
  {
   "cell_type": "markdown",
   "metadata": {},
   "source": [
    "## Testing Face model"
   ]
  },
  {
   "cell_type": "code",
   "execution_count": 45,
   "metadata": {},
   "outputs": [],
   "source": [
    "def resize_test_images(inputPath = \"Test Images\", outputPath = \"Output\"):\n",
    "    \n",
    "    for filename in os.listdir(inputPath):\n",
    "        img = io.imread(os.path.join(inputPath,filename))\n",
    "\n",
    "        # check if image is already gray\n",
    "        if len(img.shape) != 2:\n",
    "            img = rgb2gray(img)\n",
    "        \n",
    "        # resize image to 256x256\n",
    "        img = resize(img, (256, 256), mode='reflect')\n",
    "        io.imsave(os.path.join(outputPath,filename), (img * 255).astype(np.uint8))\n",
    "        "
   ]
  },
  {
   "cell_type": "code",
   "execution_count": 63,
   "metadata": {},
   "outputs": [],
   "source": [
    "def get_voting_mateix_face(img):\n",
    "    # take upper corner of image\n",
    "    img = img[0:256 // 4, 0:256]\n",
    "    # get the size of image\n",
    "    height, width = img.shape\n",
    "    \n",
    "    # get x and y increment\n",
    "    x_increment = height // 4\n",
    "    y_increment = width // 8\n",
    "    \n",
    "    # get the voting matrix\n",
    "    voting_matrix = np.zeros((height // WINDOW_SIZE, width // WINDOW_SIZE))\n",
    "    \n",
    "    # print some information\n",
    "    # print(\"Image size:\", img.shape)\n",
    "    # print(\"x increment:\", x_increment, \"y increment:\", y_increment)\n",
    "    # print(\"Voting matrix size:\", voting_matrix.shape)\n",
    "    \n",
    "    for y in range(0, height - WINDOW_SIZE, y_increment):\n",
    "        if y > height / 4:\n",
    "            break\n",
    "        for x in range(0, width - WINDOW_SIZE, x_increment):\n",
    "            # get the image patch\n",
    "            img_patch = img[y:y+WINDOW_SIZE, x:x+WINDOW_SIZE]\n",
    "            # get the HOG features\n",
    "            fd = get_features_hog(img_patch, orientations=9, pixels_per_cell=(3, 3), cells_per_block=(2, 2))\n",
    "            # get the confidence\n",
    "            confidence = face_recognizer.predict_proba(fd.reshape(1, -1))\n",
    "            # get the confidence of face\n",
    "            face_confidence = confidence[0][1]\n",
    "            # add the confidence to voting matrix\n",
    "            voting_matrix[y // WINDOW_SIZE, x // WINDOW_SIZE] = face_confidence\n",
    "            if x % WINDOW_SIZE != 0:\n",
    "                voting_matrix[y // WINDOW_SIZE, math.ceil(x / WINDOW_SIZE)] += face_confidence * (x % WINDOW_SIZE) / WINDOW_SIZE\n",
    "            if y % WINDOW_SIZE != 0:\n",
    "                voting_matrix[math.ceil(y / WINDOW_SIZE), x // WINDOW_SIZE] += face_confidence * (y % WINDOW_SIZE) / WINDOW_SIZE\n",
    "            if x % WINDOW_SIZE != 0 and y % WINDOW_SIZE != 0:\n",
    "                voting_matrix[math.ceil(y / WINDOW_SIZE), math.ceil(x / WINDOW_SIZE)] += face_confidence * (x % WINDOW_SIZE) * (y % WINDOW_SIZE) / (WINDOW_SIZE * WINDOW_SIZE)\n",
    "    return voting_matrix\n",
    "\n",
    "def get_voting_mateix_hand(img):\n",
    "    # take lower corner of image\n",
    "    img = img[256 // 4 * 2:256, 0:256]\n",
    "    # get the size of image\n",
    "    height, width = img.shape\n",
    "    \n",
    "    # get x and y increment\n",
    "    x_increment = height // 4\n",
    "    y_increment = width // 8\n",
    "    \n",
    "    # get the voting matrix\n",
    "    voting_matrix = np.zeros((height // WINDOW_SIZE, width // WINDOW_SIZE))\n",
    "    \n",
    "    # print some information\n",
    "    # print(\"Image size:\", img.shape)\n",
    "    # print(\"x increment:\", x_increment, \"y increment:\", y_increment)\n",
    "    # print(\"Voting matrix size:\", voting_matrix.shape)\n",
    "    \n",
    "    for y in range(0, height - WINDOW_SIZE, y_increment):\n",
    "        if y > height / 4:\n",
    "            break\n",
    "        for x in range(0, width - WINDOW_SIZE, x_increment):\n",
    "            # get the image patch\n",
    "            img_patch = img[y:y+WINDOW_SIZE, x:x+WINDOW_SIZE]\n",
    "            # get the HOG features\n",
    "            fd = get_features_hog(img_patch, orientations=9, pixels_per_cell=(3, 3), cells_per_block=(2, 2))\n",
    "            # get the confidence\n",
    "            confidence = hand_recognizer.predict_proba(fd.reshape(1, -1))\n",
    "            # get the confidence of face\n",
    "            face_confidence = confidence[0][1]\n",
    "            # add the confidence to voting matrix\n",
    "            voting_matrix[y // WINDOW_SIZE, x // WINDOW_SIZE] = face_confidence\n",
    "            if x % WINDOW_SIZE != 0:\n",
    "                voting_matrix[y // WINDOW_SIZE, math.ceil(x / WINDOW_SIZE)] += face_confidence * (x % WINDOW_SIZE) / WINDOW_SIZE\n",
    "            if y % WINDOW_SIZE != 0:\n",
    "                voting_matrix[math.ceil(y / WINDOW_SIZE), x // WINDOW_SIZE] += face_confidence * (y % WINDOW_SIZE) / WINDOW_SIZE\n",
    "            if x % WINDOW_SIZE != 0 and y % WINDOW_SIZE != 0:\n",
    "                voting_matrix[math.ceil(y / WINDOW_SIZE), math.ceil(x / WINDOW_SIZE)] += face_confidence * (x % WINDOW_SIZE) * (y % WINDOW_SIZE) / (WINDOW_SIZE * WINDOW_SIZE)\n",
    "    return voting_matrix\n",
    "\n",
    "def put_dots_on_image(img, voting_matrix, start_of_image_part = 0, mode = \"face\"):\n",
    "    if mode == \"face\":\n",
    "        start_of_image_part = 0\n",
    "    elif mode == \"hand\":\n",
    "        start_of_image_part = 256 // 4 * 2\n",
    "    # get the highest two values from voting matrix\n",
    "    max_value = np.max(voting_matrix)\n",
    "    max_value_index = np.where(voting_matrix == max_value)\n",
    "    voting_matrix[max_value_index] = 0\n",
    "    second_max_value = np.max(voting_matrix)\n",
    "    second_max_value_index = np.where(voting_matrix == second_max_value)\n",
    "    # get the coordinates of the highest two values\n",
    "    # get the coordinates of the dots\n",
    "    # x = col * window_width + window_width / 2\n",
    "    # y = row * window_height + start_of_image_part + window_height / 2\n",
    "    x1 = max_value_index[1][0] * WINDOW_SIZE + WINDOW_SIZE / 2\n",
    "    y1 = max_value_index[0][0] * WINDOW_SIZE + start_of_image_part + WINDOW_SIZE / 2\n",
    "    x2 = second_max_value_index[1][0] * WINDOW_SIZE + WINDOW_SIZE / 2\n",
    "    y2 = second_max_value_index[0][0] * WINDOW_SIZE + start_of_image_part + WINDOW_SIZE / 2\n",
    "    # draw red dots on image\n",
    "    cv.circle(img, (int(x1) , int(y1)), 5, (1.0, 0, 0), -1)\n",
    "    cv.circle(img, (int(x2), int(y2)), 5, (1.0, 0, 0), -1)\n",
    "    # if x1 < x2:\n",
    "    #     xr, yr = x1, y1\n",
    "    # else:\n",
    "    #     xr, yr = x2, y2\n",
    "    #cv.rectangle(img, (int(xr), int(yr)), (int(xr) + 2 * WINDOW_SIZE, int(yr) + 2 * WINDOW_SIZE), (0, 1, 0), 2)\n",
    "    #cv.rectangle(img, (int(x1), int(y1)), (int(x1) + 2 * WINDOW_SIZE, int(y1) + 2 * WINDOW_SIZE), (0, 1, 0), 2)\n",
    "    return img\n",
    "\n",
    "\n",
    "\n",
    "resize_test_images()\n",
    "for filename in os.listdir(\"Output\"):\n",
    "    img = io.imread(os.path.join(\"Output\",filename))\n",
    "    heat_matrix = get_voting_mateix_face(img)\n",
    "    img = io.imread(os.path.join(\"Test Images\",filename))\n",
    "    img = resize(img, (256, 256), mode='reflect')\n",
    "    result = put_dots_on_image(img, heat_matrix)\n",
    "    #plt.imshow(result)\n",
    "    #plt.show()\n",
    "    # remove image from folder\n",
    "    os.remove(os.path.join(\"Output\",filename))\n",
    "    io.imsave(os.path.join(\"Output\",filename), (result * 255).astype(np.uint8))"
   ]
  }
 ],
 "metadata": {
  "kernelspec": {
   "display_name": "Python 3.11.2 64-bit",
   "language": "python",
   "name": "python3"
  },
  "language_info": {
   "codemirror_mode": {
    "name": "ipython",
    "version": 3
   },
   "file_extension": ".py",
   "mimetype": "text/x-python",
   "name": "python",
   "nbconvert_exporter": "python",
   "pygments_lexer": "ipython3",
   "version": "3.11.2"
  },
  "orig_nbformat": 4,
  "vscode": {
   "interpreter": {
    "hash": "1310c6520792fcb7b0d25c1401245ed3fb6ffb6ace4a4c81d480b3badb3c3aa5"
   }
  }
 },
 "nbformat": 4,
 "nbformat_minor": 2
}
