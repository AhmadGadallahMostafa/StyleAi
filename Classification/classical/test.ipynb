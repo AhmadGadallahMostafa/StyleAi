{
 "cells": [
  {
   "cell_type": "code",
   "execution_count": 1,
   "metadata": {},
   "outputs": [],
   "source": [
    "# testing the pre trained hog model\n",
    "import numpy as np\n",
    "from sklearn import svm\n",
    "from sklearn.metrics import accuracy_score\n",
    "from sklearn.model_selection import train_test_split\n",
    "from torchvision.datasets import FashionMNIST\n",
    "from hog import get_features_hog\n",
    "import pickle\n",
    "import cv2\n"
   ]
  },
  {
   "cell_type": "code",
   "execution_count": 2,
   "metadata": {},
   "outputs": [],
   "source": [
    "# load the model from disk\n",
    "filename = 'finalized_model.sav'\n",
    "\n",
    "# load the model from disk\n",
    "model = pickle.load(open(filename, 'rb'))"
   ]
  },
  {
   "cell_type": "code",
   "execution_count": 5,
   "metadata": {},
   "outputs": [
    {
     "data": {
      "text/plain": [
       "-1"
      ]
     },
     "execution_count": 5,
     "metadata": {},
     "output_type": "execute_result"
    }
   ],
   "source": [
    "# load the test data\n",
    "test_dataset = FashionMNIST(root='data/FashionMNIST', train=False, download=True)\n",
    "test_images = test_dataset.data.numpy()\n",
    "test_labels = test_dataset.targets.numpy()\n",
    "\n",
    "# print HOG features of a test image as an example image\n",
    "image = test_images[1]\n",
    "image_hog = get_features_hog(image, cells_per_block=(1, 1), pixels_per_cell=(4, 4))\n",
    "# reshape the image to 128x128\n",
    "image = cv2.resize(image, (1024, 1024))\n",
    "image_hog = cv2.resize(image_hog, (1024, 1024))\n",
    "cv2.imshow('image', image)\n",
    "cv2.imshow('image_hog', image_hog)\n",
    "cv2.waitKey(0)"
   ]
  },
  {
   "cell_type": "code",
   "execution_count": 6,
   "metadata": {},
   "outputs": [
    {
     "ename": "KeyboardInterrupt",
     "evalue": "",
     "output_type": "error",
     "traceback": [
      "\u001b[1;31m---------------------------------------------------------------------------\u001b[0m",
      "\u001b[1;31mKeyboardInterrupt\u001b[0m                         Traceback (most recent call last)",
      "Cell \u001b[1;32mIn[6], line 4\u001b[0m\n\u001b[0;32m      2\u001b[0m test_images_hog \u001b[39m=\u001b[39m []\n\u001b[0;32m      3\u001b[0m \u001b[39mfor\u001b[39;00m image \u001b[39min\u001b[39;00m test_images:\n\u001b[1;32m----> 4\u001b[0m     image_hog \u001b[39m=\u001b[39m get_features_hog(image, cells_per_block\u001b[39m=\u001b[39;49m(\u001b[39m1\u001b[39;49m, \u001b[39m1\u001b[39;49m), pixels_per_cell\u001b[39m=\u001b[39;49m(\u001b[39m4\u001b[39;49m, \u001b[39m4\u001b[39;49m))\n\u001b[0;32m      5\u001b[0m     test_images_hog\u001b[39m.\u001b[39mappend(image_hog\u001b[39m.\u001b[39mravel())\n\u001b[0;32m      6\u001b[0m test_images_hog \u001b[39m=\u001b[39m np\u001b[39m.\u001b[39marray(test_images_hog)\n",
      "File \u001b[1;32mc:\\Users\\Ahmed\\Documents\\GitHub\\StyleAi\\Classification\\classical\\hog.py:61\u001b[0m, in \u001b[0;36mget_features_hog\u001b[1;34m(image, orientations, pixels_per_cell, cells_per_block)\u001b[0m\n\u001b[0;32m     59\u001b[0m number_of_rows, number_of_columns \u001b[39m=\u001b[39m image\u001b[39m.\u001b[39mshape\n\u001b[0;32m     60\u001b[0m \u001b[39m# Get magnitude and direction from vertical_grad and gradient_rows\u001b[39;00m\n\u001b[1;32m---> 61\u001b[0m magnitude \u001b[39m=\u001b[39m np\u001b[39m.\u001b[39;49msqrt(vertical_grad \u001b[39m*\u001b[39;49m\u001b[39m*\u001b[39;49m \u001b[39m2\u001b[39;49m \u001b[39m+\u001b[39;49m horizontal_grad \u001b[39m*\u001b[39;49m\u001b[39m*\u001b[39;49m \u001b[39m2\u001b[39;49m)\n\u001b[0;32m     62\u001b[0m angle \u001b[39m=\u001b[39m np\u001b[39m.\u001b[39mrad2deg(np\u001b[39m.\u001b[39marctan2(horizontal_grad, vertical_grad)) \u001b[39m%\u001b[39m \u001b[39m180\u001b[39m\n\u001b[0;32m     63\u001b[0m \u001b[39m# Create histogram matrix to store values with size of number of cells in rows and columns and number of orientations\u001b[39;00m\n",
      "\u001b[1;31mKeyboardInterrupt\u001b[0m: "
     ]
    }
   ],
   "source": [
    "# classify the test images\n",
    "test_images_hog = []\n",
    "for image in test_images:\n",
    "    image_hog = get_features_hog(image, cells_per_block=(1, 1), pixels_per_cell=(4, 4))\n",
    "    test_images_hog.append(image_hog.ravel())\n",
    "test_images_hog = np.array(test_images_hog)\n",
    "test_images_hog = test_images_hog.reshape(test_images_hog.shape[0], -1)\n",
    "test_images_hog = test_images_hog.astype(np.float32)\n",
    "test_images_hog /= 255.0\n",
    "test_images_hog = np.nan_to_num(test_images_hog)\n",
    "\n",
    "# predict the labels\n",
    "predicted_labels = model.predict(test_images_hog)\n",
    "\n",
    "# calculate the accuracy\n",
    "accuracy = accuracy_score(test_labels, predicted_labels)\n",
    "print('Accuracy: ', accuracy)\n"
   ]
  }
 ],
 "metadata": {
  "kernelspec": {
   "display_name": "Python 3",
   "language": "python",
   "name": "python3"
  },
  "language_info": {
   "codemirror_mode": {
    "name": "ipython",
    "version": 3
   },
   "file_extension": ".py",
   "mimetype": "text/x-python",
   "name": "python",
   "nbconvert_exporter": "python",
   "pygments_lexer": "ipython3",
   "version": "3.11.2"
  },
  "orig_nbformat": 4
 },
 "nbformat": 4,
 "nbformat_minor": 2
}
